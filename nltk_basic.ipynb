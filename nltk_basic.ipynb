{
 "cells": [
  {
   "cell_type": "markdown",
   "metadata": {},
   "source": [
    "## Phân tích đoạn văn bản bằng nltk.text"
   ]
  },
  {
   "cell_type": "code",
   "execution_count": 1,
   "metadata": {},
   "outputs": [],
   "source": [
    "%config IPCompleter.greedy = True\n",
    "\n",
    "from nltk.tokenize import word_tokenize\n",
    "from nltk.text import Text"
   ]
  },
  {
   "cell_type": "code",
   "execution_count": 2,
   "metadata": {},
   "outputs": [
    {
     "data": {
      "text/plain": [
       "['my', 'name', 'is', 'chung']"
      ]
     },
     "execution_count": 2,
     "metadata": {},
     "output_type": "execute_result"
    }
   ],
   "source": [
    "my_str = \"My name is Chung. I'm 24 years old. I've studied Computer Science at Hanoi University of Science and Technology.\"\n",
    "tokens = word_tokenize(my_str)               # Chuyen xau thanh cac tokens\n",
    "tokens = [word.lower() for word in tokens]   # Chuyen cac tokens ve dang chu thuong\n",
    "tokens[:4]"
   ]
  },
  {
   "cell_type": "code",
   "execution_count": 3,
   "metadata": {},
   "outputs": [
    {
     "data": {
      "text/plain": [
       "<Text: my name is chung . i 'm 24...>"
      ]
     },
     "execution_count": 3,
     "metadata": {},
     "output_type": "execute_result"
    }
   ],
   "source": [
    "t = Text(tokens)                             # Chuyen day cac tokens ve thanh mot cau                               \n",
    "t"
   ]
  },
  {
   "cell_type": "code",
   "execution_count": 4,
   "metadata": {},
   "outputs": [
    {
     "name": "stdout",
     "output_type": "stream",
     "text": [
      "no matches\n"
     ]
    }
   ],
   "source": [
    "t.concordance('our')                         # Xac dinh ngu canh cua mot tu nao day trong cau"
   ]
  },
  {
   "cell_type": "code",
   "execution_count": 5,
   "metadata": {},
   "outputs": [
    {
     "name": "stdout",
     "output_type": "stream",
     "text": [
      "\n"
     ]
    }
   ],
   "source": [
    "t.collocations()                             # Xac dinh cac tu tao thanh mot cum tu"
   ]
  },
  {
   "cell_type": "code",
   "execution_count": 6,
   "metadata": {},
   "outputs": [
    {
     "data": {
      "text/plain": [
       "0"
      ]
     },
     "execution_count": 6,
     "metadata": {},
     "output_type": "execute_result"
    }
   ],
   "source": [
    "t.count('you')                               # Dem so luong mot tu nao day trong cau"
   ]
  },
  {
   "cell_type": "code",
   "execution_count": 7,
   "metadata": {},
   "outputs": [
    {
     "data": {
      "text/plain": [
       "3"
      ]
     },
     "execution_count": 7,
     "metadata": {},
     "output_type": "execute_result"
    }
   ],
   "source": [
    "t.index('chung')                             # Tim chi so cua mot tu nao day trong cau"
   ]
  },
  {
   "cell_type": "code",
   "execution_count": 8,
   "metadata": {},
   "outputs": [
    {
     "name": "stdout",
     "output_type": "stream",
     "text": [
      "\n"
     ]
    }
   ],
   "source": [
    "t.similar('years')                           # Tim tu co cung ngu canh voi mot tu nao day trong cau"
   ]
  },
  {
   "cell_type": "code",
   "execution_count": 9,
   "metadata": {},
   "outputs": [
    {
     "data": {
      "text/plain": [
       "<Figure size 640x480 with 1 Axes>"
      ]
     },
     "metadata": {},
     "output_type": "display_data"
    }
   ],
   "source": [
    "t.dispersion_plot(['you', 'I', 'we'])        # Vi tri cua mot so tu nhat dinh nao day trong cau"
   ]
  },
  {
   "cell_type": "code",
   "execution_count": 10,
   "metadata": {},
   "outputs": [
    {
     "data": {
      "image/png": "[encoded data removed]",
      "text/plain": [
       "<Figure size 432x288 with 1 Axes>"
      ]
     },
     "metadata": {
      "needs_background": "light"
     },
     "output_type": "display_data"
    }
   ],
   "source": [
    "t.plot(10)                                   # Tan suat 10 tu xuat hien nhieu nhat trong cau"
   ]
  },
  {
   "cell_type": "code",
   "execution_count": 11,
   "metadata": {},
   "outputs": [
    {
     "data": {
      "text/plain": [
       "FreqDist({'.': 3, 'i': 2, 'science': 2, 'my': 1, 'name': 1, 'is': 1, 'chung': 1, \"'m\": 1, '24': 1, 'years': 1, ...})"
      ]
     },
     "execution_count": 11,
     "metadata": {},
     "output_type": "execute_result"
    }
   ],
   "source": [
    "t.vocab()                                    # Danh sach cac tu trong cau "
   ]
  },
  {
   "cell_type": "markdown",
   "metadata": {},
   "source": [
    "## Xây dựng n-grams"
   ]
  },
  {
   "cell_type": "code",
   "execution_count": 12,
   "metadata": {},
   "outputs": [],
   "source": [
    "my_str = 'Tôi là Chung. Tôi 24 tuổi. Tôi học chuyên ngành Khoa học máy tính tại Trường Đại học Bách Khoa Hà Nội.'\n",
    "my_str = my_str.lower()"
   ]
  },
  {
   "cell_type": "code",
   "execution_count": 13,
   "metadata": {},
   "outputs": [
    {
     "data": {
      "text/plain": [
       "['tôi',\n",
       " 'là',\n",
       " 'chung',\n",
       " 'tôi',\n",
       " '24',\n",
       " 'tuổi',\n",
       " 'tôi',\n",
       " 'học',\n",
       " 'chuy',\n",
       " 'n',\n",
       " 'ngành',\n",
       " 'khoa',\n",
       " 'học',\n",
       " 'máy',\n",
       " 'tính',\n",
       " 'tại',\n",
       " 'trường',\n",
       " 'đại',\n",
       " 'học',\n",
       " 'bách',\n",
       " 'khoa',\n",
       " 'hà',\n",
       " 'nội']"
      ]
     },
     "execution_count": 13,
     "metadata": {},
     "output_type": "execute_result"
    }
   ],
   "source": [
    "from nltk.tokenize import RegexpTokenizer\n",
    "tokenizer = RegexpTokenizer('[a-zA-Z0-9àôổọáíạườộđ]+')   # Tao tokenizer voi token duoc dinh nghia truoc boi mot regex\n",
    "tokens = tokenizer.tokenize(my_str)                      # Xac dinh danh sach cac tokens trong cau\n",
    "tokens"
   ]
  },
  {
   "cell_type": "code",
   "execution_count": 14,
   "metadata": {},
   "outputs": [
    {
     "data": {
      "text/plain": [
       "[[('*', 't'), ('t', 'ô'), ('ô', 'i'), ('i', '*')],\n",
       " [('*', 'l'), ('l', 'à'), ('à', '*')],\n",
       " [('*', 'c'), ('c', 'h'), ('h', 'u'), ('u', 'n'), ('n', 'g'), ('g', '*')],\n",
       " [('*', 't'), ('t', 'ô'), ('ô', 'i'), ('i', '*')],\n",
       " [('*', '2'), ('2', '4'), ('4', '*')],\n",
       " [('*', 't'), ('t', 'u'), ('u', 'ổ'), ('ổ', 'i'), ('i', '*')],\n",
       " [('*', 't'), ('t', 'ô'), ('ô', 'i'), ('i', '*')],\n",
       " [('*', 'h'), ('h', 'ọ'), ('ọ', 'c'), ('c', '*')],\n",
       " [('*', 'c'), ('c', 'h'), ('h', 'u'), ('u', 'y'), ('y', '*')],\n",
       " [('*', 'n'), ('n', '*')],\n",
       " [('*', 'n'), ('n', 'g'), ('g', 'à'), ('à', 'n'), ('n', 'h'), ('h', '*')],\n",
       " [('*', 'k'), ('k', 'h'), ('h', 'o'), ('o', 'a'), ('a', '*')],\n",
       " [('*', 'h'), ('h', 'ọ'), ('ọ', 'c'), ('c', '*')],\n",
       " [('*', 'm'), ('m', 'á'), ('á', 'y'), ('y', '*')],\n",
       " [('*', 't'), ('t', 'í'), ('í', 'n'), ('n', 'h'), ('h', '*')],\n",
       " [('*', 't'), ('t', 'ạ'), ('ạ', 'i'), ('i', '*')],\n",
       " [('*', 't'),\n",
       "  ('t', 'r'),\n",
       "  ('r', 'ư'),\n",
       "  ('ư', 'ờ'),\n",
       "  ('ờ', 'n'),\n",
       "  ('n', 'g'),\n",
       "  ('g', '*')],\n",
       " [('*', 'đ'), ('đ', 'ạ'), ('ạ', 'i'), ('i', '*')],\n",
       " [('*', 'h'), ('h', 'ọ'), ('ọ', 'c'), ('c', '*')],\n",
       " [('*', 'b'), ('b', 'á'), ('á', 'c'), ('c', 'h'), ('h', '*')],\n",
       " [('*', 'k'), ('k', 'h'), ('h', 'o'), ('o', 'a'), ('a', '*')],\n",
       " [('*', 'h'), ('h', 'à'), ('à', '*')],\n",
       " [('*', 'n'), ('n', 'ộ'), ('ộ', 'i'), ('i', '*')]]"
      ]
     },
     "execution_count": 14,
     "metadata": {},
     "output_type": "execute_result"
    }
   ],
   "source": [
    "from nltk.util import ngrams\n",
    "four_grams = []\n",
    "for word in tokens:  \n",
    "    # Tach ky tu trong mot token thanh cac bigrams, chen ky tu * vao hai ben \n",
    "    four_grams.append(list(ngrams(word, 2, pad_left = True, pad_right = True, left_pad_symbol = '*', right_pad_symbol = '*')))\n",
    "four_grams"
   ]
  },
  {
   "cell_type": "code",
   "execution_count": 15,
   "metadata": {},
   "outputs": [
    {
     "data": {
      "text/plain": [
       "[('*', 't'),\n",
       " ('t', 'ô'),\n",
       " ('ô', 'i'),\n",
       " ('i', '*'),\n",
       " ('*', 'l'),\n",
       " ('l', 'à'),\n",
       " ('à', '*'),\n",
       " ('*', 'c'),\n",
       " ('c', 'h'),\n",
       " ('h', 'u')]"
      ]
     },
     "execution_count": 15,
     "metadata": {},
     "output_type": "execute_result"
    }
   ],
   "source": [
    "four_grams = [word for sublist in four_grams for word in sublist]\n",
    "four_grams[:10]"
   ]
  },
  {
   "cell_type": "code",
   "execution_count": 16,
   "metadata": {},
   "outputs": [
    {
     "data": {
      "text/plain": [
       "['*t',\n",
       " 'tô',\n",
       " 'ôi',\n",
       " 'i*',\n",
       " '*l',\n",
       " 'là',\n",
       " 'à*',\n",
       " '*c',\n",
       " 'ch',\n",
       " 'hu',\n",
       " 'un',\n",
       " 'ng',\n",
       " 'g*',\n",
       " '*t',\n",
       " 'tô',\n",
       " 'ôi',\n",
       " 'i*',\n",
       " '*2',\n",
       " '24',\n",
       " '4*',\n",
       " '*t',\n",
       " 'tu',\n",
       " 'uổ',\n",
       " 'ổi',\n",
       " 'i*',\n",
       " '*t',\n",
       " 'tô',\n",
       " 'ôi',\n",
       " 'i*',\n",
       " '*h',\n",
       " 'họ',\n",
       " 'ọc',\n",
       " 'c*',\n",
       " '*c',\n",
       " 'ch',\n",
       " 'hu',\n",
       " 'uy',\n",
       " 'y*',\n",
       " '*n',\n",
       " 'n*',\n",
       " '*n',\n",
       " 'ng',\n",
       " 'gà',\n",
       " 'àn',\n",
       " 'nh',\n",
       " 'h*',\n",
       " '*k',\n",
       " 'kh',\n",
       " 'ho',\n",
       " 'oa',\n",
       " 'a*',\n",
       " '*h',\n",
       " 'họ',\n",
       " 'ọc',\n",
       " 'c*',\n",
       " '*m',\n",
       " 'má',\n",
       " 'áy',\n",
       " 'y*',\n",
       " '*t',\n",
       " 'tí',\n",
       " 'ín',\n",
       " 'nh',\n",
       " 'h*',\n",
       " '*t',\n",
       " 'tạ',\n",
       " 'ại',\n",
       " 'i*',\n",
       " '*t',\n",
       " 'tr',\n",
       " 'rư',\n",
       " 'ườ',\n",
       " 'ờn',\n",
       " 'ng',\n",
       " 'g*',\n",
       " '*đ',\n",
       " 'đạ',\n",
       " 'ại',\n",
       " 'i*',\n",
       " '*h',\n",
       " 'họ',\n",
       " 'ọc',\n",
       " 'c*',\n",
       " '*b',\n",
       " 'bá',\n",
       " 'ác',\n",
       " 'ch',\n",
       " 'h*',\n",
       " '*k',\n",
       " 'kh',\n",
       " 'ho',\n",
       " 'oa',\n",
       " 'a*',\n",
       " '*h',\n",
       " 'hà',\n",
       " 'à*',\n",
       " '*n',\n",
       " 'nộ',\n",
       " 'ội',\n",
       " 'i*']"
      ]
     },
     "execution_count": 16,
     "metadata": {},
     "output_type": "execute_result"
    }
   ],
   "source": [
    "list_four_grams = four_grams\n",
    "for i, val in enumerate(four_grams):\n",
    "    list_four_grams[i] = ''.join(val)\n",
    "list_four_grams"
   ]
  },
  {
   "cell_type": "markdown",
   "metadata": {},
   "source": [
    "## Phát hiện ngôn ngữ"
   ]
  },
  {
   "cell_type": "markdown",
   "metadata": {},
   "source": [
    "##### Phương thức 1. Đếm số lượng stop words"
   ]
  },
  {
   "cell_type": "code",
   "execution_count": 17,
   "metadata": {},
   "outputs": [
    {
     "data": {
      "text/plain": [
       "'Stopwords Corpus  This corpus contains lists of stop words for several languages.  These are high-frequency grammatical words which are usually ignored in text retrieval applications.  They were obtained from: http://anoncvs.postgresql.org/cvsweb.cgi/pgsql/src/backend/snowball/stopwords/  The stop words for the Romanian language were obtained from: http://arlc.ro/resources/  The English list has been augmented https://github.com/nltk/nltk_data/issues/22  The German list has been corrected https://github.com/nltk/nltk_data/pull/49  A Kazakh list has been added https://github.com/nltk/nltk_data/pull/52  A Nepali list has been added https://github.com/nltk/nltk_data/pull/83  An Azerbaijani list has been added https://github.com/nltk/nltk_data/pull/100  A Greek list has been added https://github.com/nltk/nltk_data/pull/103  An Indonesian list has been added https://github.com/nltk/nltk_data/pull/112 '"
      ]
     },
     "execution_count": 17,
     "metadata": {},
     "output_type": "execute_result"
    }
   ],
   "source": [
    "from nltk.corpus import stopwords\n",
    "stopwords.readme().replace('\\n', ' ')"
   ]
  },
  {
   "cell_type": "code",
   "execution_count": 18,
   "metadata": {},
   "outputs": [
    {
     "data": {
      "text/plain": [
       "['arabic',\n",
       " 'azerbaijani',\n",
       " 'danish',\n",
       " 'dutch',\n",
       " 'english',\n",
       " 'finnish',\n",
       " 'french',\n",
       " 'german',\n",
       " 'greek',\n",
       " 'hungarian',\n",
       " 'indonesian',\n",
       " 'italian',\n",
       " 'kazakh',\n",
       " 'nepali',\n",
       " 'norwegian',\n",
       " 'portuguese',\n",
       " 'romanian',\n",
       " 'russian',\n",
       " 'slovene',\n",
       " 'spanish',\n",
       " 'swedish',\n",
       " 'tajik',\n",
       " 'turkish']"
      ]
     },
     "execution_count": 18,
     "metadata": {},
     "output_type": "execute_result"
    }
   ],
   "source": [
    "stopwords.fileids()                                      # Danh sach cac ngon ngu"
   ]
  },
  {
   "cell_type": "code",
   "execution_count": 19,
   "metadata": {},
   "outputs": [
    {
     "data": {
      "text/plain": [
       "\"i me my myself we our ours ourselves you you're you've you'll you'd your yours yourself yourselves he him his himself she she's her hers herself it it's its itself they them their theirs themselves what which who whom this that that'll these those am is are was were be been being have has had having do does did doing a an the and but if or because as until while of at by for with about against between into through during before after above below to from up down in out on off over under again further then once here there when where why how all any both each few more most other some such no nor not only own same so than too very s t can will just don don't should should've now d ll m o re ve y ain aren aren't couldn couldn't didn didn't doesn doesn't hadn hadn't hasn hasn't haven haven't isn isn't ma mightn mightn't mustn mustn't needn needn't shan shan't shouldn shouldn't wasn wasn't weren weren't won won't wouldn wouldn't \""
      ]
     },
     "execution_count": 19,
     "metadata": {},
     "output_type": "execute_result"
    }
   ],
   "source": [
    "stopwords.raw('english').replace('\\n', ' ')              # Tep cac stop words trong Tieng Anh"
   ]
  },
  {
   "cell_type": "code",
   "execution_count": 20,
   "metadata": {},
   "outputs": [
    {
     "data": {
      "text/plain": [
       "['de',\n",
       " 'la',\n",
       " 'que',\n",
       " 'el',\n",
       " 'en',\n",
       " 'y',\n",
       " 'a',\n",
       " 'los',\n",
       " 'del',\n",
       " 'se',\n",
       " 'las',\n",
       " 'por',\n",
       " 'un',\n",
       " 'para',\n",
       " 'con',\n",
       " 'no']"
      ]
     },
     "execution_count": 20,
     "metadata": {},
     "output_type": "execute_result"
    }
   ],
   "source": [
    "stopwords.words('spanish')[:16]                          # Mot so stop words trong tieng Tay Ban Nha"
   ]
  },
  {
   "cell_type": "code",
   "execution_count": 21,
   "metadata": {},
   "outputs": [
    {
     "data": {
      "text/plain": [
       "{'arabic': 0,\n",
       " 'azerbaijani': 0,\n",
       " 'danish': 2,\n",
       " 'dutch': 3,\n",
       " 'english': 2,\n",
       " 'finnish': 2,\n",
       " 'french': 5,\n",
       " 'german': 0,\n",
       " 'greek': 0,\n",
       " 'hungarian': 1,\n",
       " 'indonesian': 0,\n",
       " 'italian': 1,\n",
       " 'kazakh': 0,\n",
       " 'nepali': 0,\n",
       " 'norwegian': 3,\n",
       " 'portuguese': 2,\n",
       " 'romanian': 2,\n",
       " 'russian': 0,\n",
       " 'slovene': 0,\n",
       " 'spanish': 7,\n",
       " 'swedish': 2,\n",
       " 'tajik': 0,\n",
       " 'turkish': 2}"
      ]
     },
     "execution_count": 21,
     "metadata": {},
     "output_type": "execute_result"
    }
   ],
   "source": [
    "from nltk.tokenize import wordpunct_tokenize\n",
    "\n",
    "text = \"Me llamo Chung. Yo tengo 24 años. Yo estudié Ciencias de la Computación en la Universidad de Ciencia y Tecnología de Hanoi.\"\n",
    "tokens = wordpunct_tokenize(text)\n",
    "words = [word.lower() for word in tokens]\n",
    "words_set = set(words)                                   # Su dung set de ap dung ham intersection\n",
    "\n",
    "language_ratios = {}\n",
    "for language in stopwords.fileids():\n",
    "    stopwords_set = set(stopwords.words(language))\n",
    "    common_elements = words_set.intersection(stopwords_set)\n",
    "    language_ratios[language] = len(common_elements)     # Dem so luong stop words ung voi moi ngon ngu\n",
    "\n",
    "language_ratios"
   ]
  },
  {
   "cell_type": "code",
   "execution_count": 22,
   "metadata": {},
   "outputs": [
    {
     "data": {
      "text/plain": [
       "'spanish'"
      ]
     },
     "execution_count": 22,
     "metadata": {},
     "output_type": "execute_result"
    }
   ],
   "source": [
    "predicted_language = max(language_ratios, key = language_ratios.get)\n",
    "predicted_language"
   ]
  },
  {
   "cell_type": "markdown",
   "metadata": {},
   "source": [
    "##### Phương thức 2: Sử dụng bigrams"
   ]
  },
  {
   "cell_type": "code",
   "execution_count": 23,
   "metadata": {},
   "outputs": [],
   "source": [
    "from nltk import word_tokenize\n",
    "import string\n",
    "\n",
    "# Xay dung tokenizer loai bo cac dau cham cau va cac ky so\n",
    "def ultimate_tokenize(my_str):\n",
    "    my_str = my_str.translate(str.maketrans('', '', string.punctuation + string.digits))\n",
    "    return word_tokenize(my_str.lower())\n",
    "\n",
    "from nltk import FreqDist, ngrams\n",
    "\n",
    "# Xay dung tu dien n-gram\n",
    "def get_ngram_count_dict(tokens, n):\n",
    "    if n == 1:\n",
    "        n_grams = ngrams(tokens, n)\n",
    "    else:\n",
    "        n_grams = ngrams(tokens, n, pad_left = True, pad_right = True, left_pad_symbol = '*', right_pad_symbol = '*')\n",
    "        \n",
    "    fdist = FreqDist(n_grams)                            # Tinh tan suat xuat hien cua moi n-gram. \n",
    "    ngram_dict = dict()\n",
    "    for k, v in fdist.items():\n",
    "        ngram_dict[' '.join(k)] = v                      # Chuyen n-gram tu ['X1', 'X2'...] thanh 'X1 X2...'\n",
    "    return ngram_dict\n",
    "\n",
    "\n",
    "# Xay dung tu dien unigram va bigram\n",
    "def get_unigram_bigram_dicts(file):\n",
    "    with open(file, encoding = 'utf8') as f:\n",
    "        content = f.read()\n",
    "    tokens = ultimate_tokenize(content)\n",
    "    unigram_dict = get_ngram_count_dict(tokens, 1)\n",
    "    bigram_dict = get_ngram_count_dict(tokens, 2)\n",
    "    return (unigram_dict, bigram_dict)\n",
    "\n",
    "import pickle\n",
    "\n",
    "# Xay dung cac files .pickle tu tu dien unigram va tu dien bigram\n",
    "def dump_pickle(language):\n",
    "    file = 'ngram_langid_files/LangId.train.' + language + '.txt'\n",
    "    unigram_dict, bigram_dict = get_unigram_bigram_dicts(file)\n",
    "    with open('ngram_langid_files/' + language + '.unigram.pickle', 'wb') as handle:\n",
    "        pickle.dump(unigram_dict, handle, protocol = pickle.HIGHEST_PROTOCOL) \n",
    "    with open('ngram_langid_files/' + language + '.bigram.pickle', 'wb') as handle:\n",
    "        pickle.dump(bigram_dict, handle, protocol = pickle.HIGHEST_PROTOCOL)\n",
    "\n",
    "dump_pickle('English')\n",
    "dump_pickle('Spanish')\n",
    "\n",
    "import os\n",
    "from numpy import arange\n",
    "import matplotlib.pyplot as plt\n",
    "%matplotlib inline"
   ]
  },
  {
   "cell_type": "code",
   "execution_count": null,
   "metadata": {},
   "outputs": [],
   "source": [
    "# Tai tu dien unigram va tu dien bigram ung voi tung ngon ngu\n",
    "with open('ngram_langid_files/English.bigram.pickle', 'rb') as handle:\n",
    "    bigram_english_dict = pickle.load(handle)\n",
    "\n",
    "with open('ngram_langid_files/Spanish.bigram.pickle', 'rb') as handle:\n",
    "    bigram_spanish_dict = pickle.load(handle)\n",
    "    \n",
    "with open('ngram_langid_files/English.unigram.pickle', 'rb') as handle:\n",
    "    unigram_english_dict = pickle.load(handle)\n",
    "\n",
    "with open('ngram_langid_files/Spanish.unigram.pickle', 'rb') as handle:\n",
    "    unigram_spanish_dict = pickle.load(handle)\n",
    "\n",
    "vocabulary_size = len(unigram_english_dict) + len(unigram_spanish_dict)\n",
    "\n",
    "# Tinh xac suat mot bigram thuoc ve mot ngon ngu (duoc xac dinh boi tu dien bigram)\n",
    "def get_bigram_probability(bigram, first_word, bigram_dict, first_word_dict):\n",
    "    bigram_count = bigram_dict.get(bigram)\n",
    "    if bigram_count is None:\n",
    "        bigram_count = 0\n",
    "    \n",
    "    first_word_count = first_word_dict.get(first_word)\n",
    "    if first_word_count is None:\n",
    "        first_word_count = 0\n",
    "    \n",
    "    return (bigram_count + 1)/(first_word_count + vocabulary_size)\n",
    "\n",
    "# Tinh xac suat mot danh sach cac bigram thuoc ve mot ngon ngu (duoc xac dinh boi tu dien bigram)\n",
    "def get_language_probability(bigram_list, first_words, bigram_dict, first_word_dict):\n",
    "    result = 1.0\n",
    "    i = 0\n",
    "    for bigram in bigram_list:\n",
    "        result *= get_bigram_probability(bigram, first_words[i], bigram_dict, first_word_dict)\n",
    "        i += 1\n",
    "    return result\n",
    "\n",
    "# Tai phuong an dung duoc luu o file LangId.sol.txt\n",
    "solution_dict = dict()\n",
    "with open('ngram_langid_files/LangId.sol.txt') as f:\n",
    "    for line in f:\n",
    "        (key, val) = line.split()\n",
    "        solution_dict[int(key)] = val\n",
    "\n",
    "line_no = 1                                              # So thu tu dong\n",
    "result_dict = dict()                                     # Ket qua du doan \n",
    "correct = 0                                              # So luong du doan dung\n",
    "incorrect_line = []                                      # Danh sach cac dong bi du doan sai\n",
    "\n",
    "# Gan gia tri ung voi ky tu chen * trong tu dien unigram\n",
    "i = 0\n",
    "with open('ngram_langid_files/LangId.train.English.txt', encoding = 'utf8') as f:\n",
    "    for i, l in enumerate(f):\n",
    "        pass\n",
    "number_of_sents_en = i + 1\n",
    "with open('ngram_langid_files/LangId.train.Spanish.txt', encoding = 'utf8') as f:\n",
    "    for i, l in enumerate(f):\n",
    "        pass\n",
    "number_of_sents_sp = i + 1\n",
    "unigram_english_dict['*'] = number_of_sents_en\n",
    "unigram_spanish_dict['*'] = number_of_sents_sp\n",
    "\n",
    "# Du doan ngon ngu cua tung cau trong tep van ban\n",
    "with open('ngram_langid_files/LangId.test.txt', encoding = 'utf8') as f:\n",
    "    for line in f:\n",
    "        tokens = ultimate_tokenize(line)\n",
    "        bigrams = ngrams(tokens, 2, pad_left = True, pad_right = True, left_pad_symbol = '*', right_pad_symbol = '*')\n",
    "        \n",
    "        # Xay dung danh sach bigrams va danh sach first_words cua cau\n",
    "        bigram_list = []\n",
    "        first_words = []\n",
    "        for b in bigrams:\n",
    "            bigram_list.append(' '.join(b))\n",
    "            first_words.append(b[0])\n",
    "        \n",
    "        # Tinh xac suat cau thuoc vao tung ngon ngu\n",
    "        en_prob = get_language_probability(bigram_list, first_words, bigram_english_dict, unigram_english_dict)\n",
    "        sp_prob = get_language_probability(bigram_list, first_words, bigram_spanish_dict, unigram_spanish_dict)\n",
    "        \n",
    "        # Xac dinh gia tri xac suat lon nhat va ghi nhan ket qua du doan\n",
    "        max_prob = max(en_prob, sp_prob)\n",
    "        if max_prob == en_prob:\n",
    "            result_dict[line_no] = 'English'\n",
    "        else:\n",
    "            result_dict[line_no] = 'Spanish'\n",
    "        \n",
    "        # Ghi nhan tinh chinh xac cua phep du doan\n",
    "        if result_dict[line_no] == solution_dict[line_no]:\n",
    "            correct += 1\n",
    "        else:\n",
    "            incorrect_line.append(line_no)\n",
    "            \n",
    "        # Chuyen sang cau khac\n",
    "        line_no += 1\n",
    "    \n",
    "# Luu tru ket qua\n",
    "with open('ngram_langid_files/LangId.result.txt', 'w') as f:\n",
    "    for (key, val) in result_dict.items():\n",
    "        f.write(' '.join(str(key), val) + '\\n')\n",
    "\n",
    "print('Accuracy: {:2.4f}%'.format(correct * 100 / len(solution_dict)))"
   ]
  }
 ],
 "metadata": {
  "kernelspec": {
   "display_name": "Python [conda env:chungphb]",
   "language": "python",
   "name": "conda-env-chungphb-py"
  },
  "language_info": {
   "codemirror_mode": {
    "name": "ipython",
    "version": 3
   },
   "file_extension": ".py",
   "mimetype": "text/x-python",
   "name": "python",
   "nbconvert_exporter": "python",
   "pygments_lexer": "ipython3",
   "version": "3.7.4"
  }
 },
 "nbformat": 4,
 "nbformat_minor": 2
}
